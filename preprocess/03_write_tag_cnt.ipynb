{
 "cells": [
  {
   "cell_type": "code",
   "execution_count": 2,
   "metadata": {},
   "outputs": [],
   "source": [
    "import pandas as pd\n",
    "\n",
    "input_file = \"../data/small_tagdc/Posts_50000.csv\"\n",
    "small = pd.read_csv(input_file)"
   ]
  },
  {
   "cell_type": "code",
   "execution_count": 3,
   "metadata": {},
   "outputs": [
    {
     "name": "stdout",
     "output_type": "stream",
     "text": [
      "0\n",
      "10000\n",
      "20000\n",
      "30000\n",
      "40000\n"
     ]
    }
   ],
   "source": [
    "import ast\n",
    "tag_cnt_dict = {}\n",
    "tag_cnt_header = [\"tag\", \"count\"]\n",
    "for index, row in small.iterrows():\n",
    "    tags = ast.literal_eval(row['Tags'])\n",
    "    for t in tags:\n",
    "        if t in tag_cnt_dict:\n",
    "            tag_cnt_dict[t] += 1\n",
    "        else:\n",
    "            tag_cnt_dict[t] = 1\n",
    "    if index % 10000 == 0:\n",
    "        print(index)\n",
    "sort_tag_cnt = dict(sorted(tag_cnt_dict.items(),\n",
    "                        key=lambda item: item[1], reverse=True))"
   ]
  },
  {
   "cell_type": "code",
   "execution_count": 5,
   "metadata": {},
   "outputs": [
    {
     "name": "stdout",
     "output_type": "stream",
     "text": [
      "Write ../data/small_tagdc/small_tagdc_tags_all.csv successfully!\n"
     ]
    }
   ],
   "source": [
    "from util import write_dict_to_csv\n",
    "tag_cnt_csv_fapth = \"../data/small_tagdc/small_tagdc_tags_all.csv\"\n",
    "write_dict_to_csv(sort_tag_cnt, tag_cnt_csv_fapth, tag_cnt_header)"
   ]
  }
 ],
 "metadata": {
  "interpreter": {
   "hash": "d4d1e4263499bec80672ea0156c357c1ee493ec2b1c70f0acce89fc37c4a6abe"
  },
  "kernelspec": {
   "display_name": "Python 3.6.13 64-bit ('base': conda)",
   "language": "python",
   "name": "python3"
  },
  "language_info": {
   "codemirror_mode": {
    "name": "ipython",
    "version": 3
   },
   "file_extension": ".py",
   "mimetype": "text/x-python",
   "name": "python",
   "nbconvert_exporter": "python",
   "pygments_lexer": "ipython3",
   "version": "3.6.13"
  },
  "orig_nbformat": 4
 },
 "nbformat": 4,
 "nbformat_minor": 2
}
