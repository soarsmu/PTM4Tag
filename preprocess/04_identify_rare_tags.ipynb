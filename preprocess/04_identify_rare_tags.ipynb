{
 "cells": [
  {
   "cell_type": "code",
   "execution_count": 6,
   "metadata": {},
   "outputs": [
    {
     "name": "stdout",
     "output_type": "stream",
     "text": [
      "loading tag cnt dict...\n",
      "Write ../data/tagdc_csv/small_tagdc_rareTags.csv successfully!\n",
      "Write ../data/tagdc_csv/small_tagdc_commonTags.csv successfully!\n",
      "#rare tags : 25947\n",
      "\n"
     ]
    }
   ],
   "source": [
    "import os\n",
    "import csv\n",
    "from datetime import date\n",
    "from util import get_date, load_tag_cnt, write_list_to_csv\n",
    "\n",
    "\n",
    "def identify_rare_tags(tag_dict, rare_tags_fpath, commom_tags_fpath, ts):\n",
    "    rare_tags = []\n",
    "    common_tags = []\n",
    "    for t in tag_dict:\n",
    "        if tag_dict[t] < ts:\n",
    "            rare_tags.append(t)\n",
    "        else:\n",
    "            common_tags.append(t)\n",
    "    header = [\"tag\"]\n",
    "    write_list_to_csv(rare_tags, rare_tags_fpath, header)\n",
    "    write_list_to_csv(common_tags, commom_tags_fpath, header)\n",
    "    print(\"#rare tags : %s\" % len(rare_tags) + '\\n')\n",
    "\n",
    "dataset_dir = \"../data/tagdc_csv\"\n",
    "# ts\n",
    "ts = 50\n",
    "ts_dir = \"../data/tagdc_csv\"\n",
    "\n",
    "# Input:\n",
    "tag_cnt_csv_fapth = dataset_dir + os.sep + \"tagdc_tags_all.csv\"\n",
    "\n",
    "# Output:\n",
    "rare_tags_fpath = ts_dir + os.sep + \"small_tagdc_rareTags.csv\"\n",
    "common_tags_fpath = ts_dir + os.sep + \"small_tagdc_commonTags.csv\"\n",
    "\n",
    "################### Path Setting ##########################\n",
    "\n",
    "# <tag_cnt>\n",
    "tag_cnt = load_tag_cnt(tag_cnt_csv_fapth)\n",
    "# get rare tags [rare tags]\n",
    "identify_rare_tags(tag_cnt, rare_tags_fpath, common_tags_fpath, ts)"
   ]
  }
 ],
 "metadata": {
  "interpreter": {
   "hash": "d4d1e4263499bec80672ea0156c357c1ee493ec2b1c70f0acce89fc37c4a6abe"
  },
  "kernelspec": {
   "display_name": "Python 3.6.13 64-bit ('base': conda)",
   "language": "python",
   "name": "python3"
  },
  "language_info": {
   "codemirror_mode": {
    "name": "ipython",
    "version": 3
   },
   "file_extension": ".py",
   "mimetype": "text/x-python",
   "name": "python",
   "nbconvert_exporter": "python",
   "pygments_lexer": "ipython3",
   "version": "3.6.13"
  },
  "orig_nbformat": 4
 },
 "nbformat": 4,
 "nbformat_minor": 2
}
