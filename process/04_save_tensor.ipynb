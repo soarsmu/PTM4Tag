{
 "cells": [
  {
   "cell_type": "code",
   "execution_count": 2,
   "metadata": {},
   "outputs": [],
   "source": [
    "import sys\n",
    "sys.path.append(\"../bert\")\n",
    "sys.path.append(\"../..\")\n",
    "import multiprocessing as mp\n",
    "from typing import Counter\n",
    "import argparse\n",
    "import logging\n",
    "import time\n",
    "from tqdm import tqdm\n",
    "from data_structure.question import Question, NewQuestion\n",
    "import pandas as pd\n",
    "from util.util import get_files_paths_from_directory\n"
   ]
  },
  {
   "cell_type": "code",
   "execution_count": 5,
   "metadata": {},
   "outputs": [],
   "source": [
    "from transformers import AutoTokenizer\n",
    "tokenizer = AutoTokenizer.from_pretrained(\n",
    "        \"microsoft/codebert-base\", local_files_only=True)\n",
    "def gen_feature(tokens, max_length):\n",
    "\n",
    "        feature = tokenizer(tokens, max_length=max_length,\n",
    "                                 padding='max_length', return_attention_mask=True,\n",
    "                                 return_token_type_ids=False, truncation=True,\n",
    "                                 return_tensors='pt')\n",
    "        res = {\n",
    "            \"input_ids\": feature[\"input_ids\"].flatten(),\n",
    "            \"attention_mask\": feature[\"attention_mask\"].flatten()}\n",
    "        return res"
   ]
  },
  {
   "cell_type": "code",
   "execution_count": 28,
   "metadata": {},
   "outputs": [],
   "source": [
    "\n",
    "input_dir = \"../data/processed_train\"\n",
    "out_dir = \"../data/tensor_data/\"\n",
    "files = get_files_paths_from_directory(input_dir)\n",
    "for file in files:\n",
    "    dataset = pd.read_pickle(file)\n",
    "    file_name = file[24:]\n",
    "    q_list = list()\n",
    "    for question in dataset:\n",
    "        qid = question.get_qid()\n",
    "        title = question.get_title()\n",
    "        title_feature = gen_feature(title, 100)\n",
    "        text = question.get_text()\n",
    "        text_feature = gen_feature(text, 512)\n",
    "        code = question.get_code()\n",
    "        code_feature = gen_feature(code, 512)\n",
    "        date = question.get_creation_date()\n",
    "        tags = question.get_tag\n",
    "        q_list.append(NewQuestion(qid, title, text, code, date, tags))\n",
    "    import pickle\n",
    "    with open(out_dir+file_name, 'wb') as f:\n",
    "        pickle.dump(q_list, f)\n",
    "        break\n",
    "    break\n"
   ]
  },
  {
   "cell_type": "code",
   "execution_count": 26,
   "metadata": {},
   "outputs": [
    {
     "data": {
      "text/plain": [
       "torch.Size([100])"
      ]
     },
     "execution_count": 26,
     "metadata": {},
     "output_type": "execute_result"
    }
   ],
   "source": [
    "title_feature['input_ids'].flatten().size()"
   ]
  },
  {
   "cell_type": "code",
   "execution_count": 20,
   "metadata": {},
   "outputs": [
    {
     "data": {
      "text/plain": [
       "'i am trying to plot a logistic regression graph from the following data however when i try: i get the following error: i am a bit confused why it thinks that either x or y has only one sample.'"
      ]
     },
     "execution_count": 20,
     "metadata": {},
     "output_type": "execute_result"
    }
   ],
   "source": [
    "text"
   ]
  },
  {
   "cell_type": "code",
   "execution_count": 21,
   "metadata": {},
   "outputs": [
    {
     "data": {
      "text/plain": [
       "{'input_ids': tensor([    0,   118,   524,   667,     7,  6197,    10,  7425,  5580, 39974,\n",
       "         20992,    31,     5,   511,   414,   959,    77,   939,   860,    35,\n",
       "           939,   120,     5,   511,  5849,    35,   939,   524,    10,   828,\n",
       "         10985,   596,    24,  4265,    14,  1169,  3023,    50,  1423,    34,\n",
       "           129,    65,  7728,     4,     2,     1,     1,     1,     1,     1,\n",
       "             1,     1,     1,     1,     1,     1,     1,     1,     1,     1,\n",
       "             1,     1,     1,     1,     1,     1,     1,     1,     1,     1,\n",
       "             1,     1,     1,     1,     1,     1,     1,     1,     1,     1,\n",
       "             1,     1,     1,     1,     1,     1,     1,     1,     1,     1,\n",
       "             1,     1,     1,     1,     1,     1,     1,     1,     1,     1,\n",
       "             1,     1,     1,     1,     1,     1,     1,     1,     1,     1,\n",
       "             1,     1,     1,     1,     1,     1,     1,     1,     1,     1,\n",
       "             1,     1,     1,     1,     1,     1,     1,     1,     1,     1,\n",
       "             1,     1,     1,     1,     1,     1,     1,     1,     1,     1,\n",
       "             1,     1,     1,     1,     1,     1,     1,     1,     1,     1,\n",
       "             1,     1,     1,     1,     1,     1,     1,     1,     1,     1,\n",
       "             1,     1,     1,     1,     1,     1,     1,     1,     1,     1,\n",
       "             1,     1,     1,     1,     1,     1,     1,     1,     1,     1,\n",
       "             1,     1,     1,     1,     1,     1,     1,     1,     1,     1,\n",
       "             1,     1,     1,     1,     1,     1,     1,     1,     1,     1,\n",
       "             1,     1,     1,     1,     1,     1,     1,     1,     1,     1,\n",
       "             1,     1,     1,     1,     1,     1,     1,     1,     1,     1,\n",
       "             1,     1,     1,     1,     1,     1,     1,     1,     1,     1,\n",
       "             1,     1,     1,     1,     1,     1,     1,     1,     1,     1,\n",
       "             1,     1,     1,     1,     1,     1,     1,     1,     1,     1,\n",
       "             1,     1,     1,     1,     1,     1,     1,     1,     1,     1,\n",
       "             1,     1,     1,     1,     1,     1,     1,     1,     1,     1,\n",
       "             1,     1,     1,     1,     1,     1,     1,     1,     1,     1,\n",
       "             1,     1,     1,     1,     1,     1,     1,     1,     1,     1,\n",
       "             1,     1,     1,     1,     1,     1,     1,     1,     1,     1,\n",
       "             1,     1,     1,     1,     1,     1,     1,     1,     1,     1,\n",
       "             1,     1,     1,     1,     1,     1,     1,     1,     1,     1,\n",
       "             1,     1,     1,     1,     1,     1,     1,     1,     1,     1,\n",
       "             1,     1,     1,     1,     1,     1,     1,     1,     1,     1,\n",
       "             1,     1,     1,     1,     1,     1,     1,     1,     1,     1,\n",
       "             1,     1,     1,     1,     1,     1,     1,     1,     1,     1,\n",
       "             1,     1,     1,     1,     1,     1,     1,     1,     1,     1,\n",
       "             1,     1,     1,     1,     1,     1,     1,     1,     1,     1,\n",
       "             1,     1,     1,     1,     1,     1,     1,     1,     1,     1,\n",
       "             1,     1,     1,     1,     1,     1,     1,     1,     1,     1,\n",
       "             1,     1,     1,     1,     1,     1,     1,     1,     1,     1,\n",
       "             1,     1,     1,     1,     1,     1,     1,     1,     1,     1,\n",
       "             1,     1,     1,     1,     1,     1,     1,     1,     1,     1,\n",
       "             1,     1,     1,     1,     1,     1,     1,     1,     1,     1,\n",
       "             1,     1,     1,     1,     1,     1,     1,     1,     1,     1,\n",
       "             1,     1,     1,     1,     1,     1,     1,     1,     1,     1,\n",
       "             1,     1,     1,     1,     1,     1,     1,     1,     1,     1,\n",
       "             1,     1,     1,     1,     1,     1,     1,     1,     1,     1,\n",
       "             1,     1,     1,     1,     1,     1,     1,     1,     1,     1,\n",
       "             1,     1,     1,     1,     1,     1,     1,     1,     1,     1,\n",
       "             1,     1,     1,     1,     1,     1,     1,     1,     1,     1,\n",
       "             1,     1]),\n",
       " 'attention_mask': tensor([1, 1, 1, 1, 1, 1, 1, 1, 1, 1, 1, 1, 1, 1, 1, 1, 1, 1, 1, 1, 1, 1, 1, 1,\n",
       "         1, 1, 1, 1, 1, 1, 1, 1, 1, 1, 1, 1, 1, 1, 1, 1, 1, 1, 1, 1, 1, 0, 0, 0,\n",
       "         0, 0, 0, 0, 0, 0, 0, 0, 0, 0, 0, 0, 0, 0, 0, 0, 0, 0, 0, 0, 0, 0, 0, 0,\n",
       "         0, 0, 0, 0, 0, 0, 0, 0, 0, 0, 0, 0, 0, 0, 0, 0, 0, 0, 0, 0, 0, 0, 0, 0,\n",
       "         0, 0, 0, 0, 0, 0, 0, 0, 0, 0, 0, 0, 0, 0, 0, 0, 0, 0, 0, 0, 0, 0, 0, 0,\n",
       "         0, 0, 0, 0, 0, 0, 0, 0, 0, 0, 0, 0, 0, 0, 0, 0, 0, 0, 0, 0, 0, 0, 0, 0,\n",
       "         0, 0, 0, 0, 0, 0, 0, 0, 0, 0, 0, 0, 0, 0, 0, 0, 0, 0, 0, 0, 0, 0, 0, 0,\n",
       "         0, 0, 0, 0, 0, 0, 0, 0, 0, 0, 0, 0, 0, 0, 0, 0, 0, 0, 0, 0, 0, 0, 0, 0,\n",
       "         0, 0, 0, 0, 0, 0, 0, 0, 0, 0, 0, 0, 0, 0, 0, 0, 0, 0, 0, 0, 0, 0, 0, 0,\n",
       "         0, 0, 0, 0, 0, 0, 0, 0, 0, 0, 0, 0, 0, 0, 0, 0, 0, 0, 0, 0, 0, 0, 0, 0,\n",
       "         0, 0, 0, 0, 0, 0, 0, 0, 0, 0, 0, 0, 0, 0, 0, 0, 0, 0, 0, 0, 0, 0, 0, 0,\n",
       "         0, 0, 0, 0, 0, 0, 0, 0, 0, 0, 0, 0, 0, 0, 0, 0, 0, 0, 0, 0, 0, 0, 0, 0,\n",
       "         0, 0, 0, 0, 0, 0, 0, 0, 0, 0, 0, 0, 0, 0, 0, 0, 0, 0, 0, 0, 0, 0, 0, 0,\n",
       "         0, 0, 0, 0, 0, 0, 0, 0, 0, 0, 0, 0, 0, 0, 0, 0, 0, 0, 0, 0, 0, 0, 0, 0,\n",
       "         0, 0, 0, 0, 0, 0, 0, 0, 0, 0, 0, 0, 0, 0, 0, 0, 0, 0, 0, 0, 0, 0, 0, 0,\n",
       "         0, 0, 0, 0, 0, 0, 0, 0, 0, 0, 0, 0, 0, 0, 0, 0, 0, 0, 0, 0, 0, 0, 0, 0,\n",
       "         0, 0, 0, 0, 0, 0, 0, 0, 0, 0, 0, 0, 0, 0, 0, 0, 0, 0, 0, 0, 0, 0, 0, 0,\n",
       "         0, 0, 0, 0, 0, 0, 0, 0, 0, 0, 0, 0, 0, 0, 0, 0, 0, 0, 0, 0, 0, 0, 0, 0,\n",
       "         0, 0, 0, 0, 0, 0, 0, 0, 0, 0, 0, 0, 0, 0, 0, 0, 0, 0, 0, 0, 0, 0, 0, 0,\n",
       "         0, 0, 0, 0, 0, 0, 0, 0, 0, 0, 0, 0, 0, 0, 0, 0, 0, 0, 0, 0, 0, 0, 0, 0,\n",
       "         0, 0, 0, 0, 0, 0, 0, 0, 0, 0, 0, 0, 0, 0, 0, 0, 0, 0, 0, 0, 0, 0, 0, 0,\n",
       "         0, 0, 0, 0, 0, 0, 0, 0])}"
      ]
     },
     "execution_count": 21,
     "metadata": {},
     "output_type": "execute_result"
    }
   ],
   "source": [
    "text_feature"
   ]
  },
  {
   "cell_type": "code",
   "execution_count": 8,
   "metadata": {},
   "outputs": [],
   "source": [
    "test_text = \"\"\"x = np.array ([ 0,1,2,3,4,5,6,7,8,9,10,11] ) y = np.array ([ 0,0,0,0,1,0,1,0,1,1,1,1] ) import numpy as np import matplotlib.pyplot as plt from sklearn import linear_model x = np.array ([ 0,1,2,3,4,5,6,7,8,9,10,11] ) y = np.array ([ 0,0,0,0,1,0,1,0,1,1,1,1] ) clf = linear_model.logisticregression (c=1e5) clf.fit (x, y) valueerror: found input variables with inconsistent numbers of samples: [1 , 12 ]\n",
    "x = np.array ([ 0,1,2,3,4,5,6,7,8,9,10,11] ) y = np.array ([ 0,0,0,0,1,0,1,0,1,1,1,1] ) import numpy as np import matplotlib.pyplot as plt from sklearn import linear_model x = np.array ([ 0,1,2,3,4,5,6,7,8,9,10,11] ) y = np.array ([ 0,0,0,0,1,0,1,0,1,1,1,1] ) clf = linear_model.logisticregression (c=1e5) clf.fit (x, y) valueerror: found input variables with inconsistent numbers of samples: [1 , 12 ]\n",
    "x = np.array ([ 0,1,2,3,4,5,6,7,8,9,10,11] ) y = np.array ([ 0,0,0,0,1,0,1,0,1,1,1,1] ) import numpy as np import matplotlib.pyplot as plt from sklearn import linear_model x = np.array ([ 0,1,2,3,4,5,6,7,8,9,10,11] ) y = np.array ([ 0,0,0,0,1,0,1,0,1,1,1,1] ) clf = linear_model.logisticregression (c=1e5) clf.fit (x, y) valueerror: found input variables with inconsistent numbers of samples: [1 , 12 ]\n",
    "x = np.array ([ 0,1,2,3,4,5,6,7,8,9,10,11] ) y = np.array ([ 0,0,0,0,1,0,1,0,1,1,1,1] ) import numpy as np import matplotlib.pyplot as plt from sklearn import linear_model x = np.array ([ 0,1,2,3,4,5,6,7,8,9,10,11] ) y = np.array ([ 0,0,0,0,1,0,1,0,1,1,1,1] ) clf = linear_model.logisticregression (c=1e5) clf.fit (x, y) valueerror: found input variables with inconsistent numbers of samples: [1 , 12 ]\n",
    "x = np.array ([ 0,1,2,3,4,5,6,7,8,9,10,11] ) y = np.array ([ 0,0,0,0,1,0,1,0,1,1,1,1] ) import numpy as np import matplotlib.pyplot as plt from sklearn import linear_model x = np.array ([ 0,1,2,3,4,5,6,7,8,9,10,11] ) y = np.array ([ 0,0,0,0,1,0,1,0,1,1,1,1] ) clf = linear_model.logisticregression (c=1e5) clf.fit (x, y) valueerror: found input variables with inconsistent numbers of samples: [1 , 12 ]\n",
    "\"\"\""
   ]
  },
  {
   "cell_type": "code",
   "execution_count": 1,
   "metadata": {},
   "outputs": [],
   "source": [
    "import pandas as pd\n",
    "train = pd.read_csv(\"../data/tagdc_csv/Posts.csv\")"
   ]
  },
  {
   "cell_type": "code",
   "execution_count": 2,
   "metadata": {},
   "outputs": [
    {
     "data": {
      "text/html": [
       "<div>\n",
       "<style scoped>\n",
       "    .dataframe tbody tr th:only-of-type {\n",
       "        vertical-align: middle;\n",
       "    }\n",
       "\n",
       "    .dataframe tbody tr th {\n",
       "        vertical-align: top;\n",
       "    }\n",
       "\n",
       "    .dataframe thead th {\n",
       "        text-align: right;\n",
       "    }\n",
       "</style>\n",
       "<table border=\"1\" class=\"dataframe\">\n",
       "  <thead>\n",
       "    <tr style=\"text-align: right;\">\n",
       "      <th></th>\n",
       "      <th>Id</th>\n",
       "      <th>CreationDate</th>\n",
       "      <th>Title</th>\n",
       "      <th>Body</th>\n",
       "      <th>Code</th>\n",
       "      <th>Tags</th>\n",
       "    </tr>\n",
       "  </thead>\n",
       "  <tbody>\n",
       "    <tr>\n",
       "      <th>0</th>\n",
       "      <td>4</td>\n",
       "      <td>2008-07-31T21:42:52.667</td>\n",
       "      <td>When setting a form's opacity should I use a d...</td>\n",
       "      <td>I want to use a track-bar to change a form's o...</td>\n",
       "      <td>decimal trans = trackBar1.Value / 5000; this.O...</td>\n",
       "      <td>['c#', 'winforms', 'type-conversion', 'decimal...</td>\n",
       "    </tr>\n",
       "    <tr>\n",
       "      <th>1</th>\n",
       "      <td>6</td>\n",
       "      <td>2008-07-31T22:08:08.620</td>\n",
       "      <td>Percentage width child element in absolutely p...</td>\n",
       "      <td>I have an absolutely positioned div containing...</td>\n",
       "      <td>NaN</td>\n",
       "      <td>['html', 'css', 'css3', 'internet-explorer-7']</td>\n",
       "    </tr>\n",
       "    <tr>\n",
       "      <th>2</th>\n",
       "      <td>13</td>\n",
       "      <td>2008-08-01T00:42:38.903</td>\n",
       "      <td>Determine a User's Timezone</td>\n",
       "      <td>Is there any standard way for a Web Server to ...</td>\n",
       "      <td>NaN</td>\n",
       "      <td>['html', 'browser', 'timezone', 'timezoneoffset']</td>\n",
       "    </tr>\n",
       "    <tr>\n",
       "      <th>3</th>\n",
       "      <td>9</td>\n",
       "      <td>2008-07-31T23:40:59.743</td>\n",
       "      <td>How do I calculate someone's age in C#?</td>\n",
       "      <td>Given a DateTime representing a person's birth...</td>\n",
       "      <td>NaN</td>\n",
       "      <td>['.net']</td>\n",
       "    </tr>\n",
       "    <tr>\n",
       "      <th>4</th>\n",
       "      <td>11</td>\n",
       "      <td>2008-07-31T23:55:37.967</td>\n",
       "      <td>How can relative time be calculated in C#?</td>\n",
       "      <td>Given a specific DateTime value, how do I disp...</td>\n",
       "      <td>NaN</td>\n",
       "      <td>['c#', 'datetime', 'datediff', 'relative-time-...</td>\n",
       "    </tr>\n",
       "  </tbody>\n",
       "</table>\n",
       "</div>"
      ],
      "text/plain": [
       "   Id             CreationDate  \\\n",
       "0   4  2008-07-31T21:42:52.667   \n",
       "1   6  2008-07-31T22:08:08.620   \n",
       "2  13  2008-08-01T00:42:38.903   \n",
       "3   9  2008-07-31T23:40:59.743   \n",
       "4  11  2008-07-31T23:55:37.967   \n",
       "\n",
       "                                               Title  \\\n",
       "0  When setting a form's opacity should I use a d...   \n",
       "1  Percentage width child element in absolutely p...   \n",
       "2                        Determine a User's Timezone   \n",
       "3            How do I calculate someone's age in C#?   \n",
       "4         How can relative time be calculated in C#?   \n",
       "\n",
       "                                                Body  \\\n",
       "0  I want to use a track-bar to change a form's o...   \n",
       "1  I have an absolutely positioned div containing...   \n",
       "2  Is there any standard way for a Web Server to ...   \n",
       "3  Given a DateTime representing a person's birth...   \n",
       "4  Given a specific DateTime value, how do I disp...   \n",
       "\n",
       "                                                Code  \\\n",
       "0  decimal trans = trackBar1.Value / 5000; this.O...   \n",
       "1                                                NaN   \n",
       "2                                                NaN   \n",
       "3                                                NaN   \n",
       "4                                                NaN   \n",
       "\n",
       "                                                Tags  \n",
       "0  ['c#', 'winforms', 'type-conversion', 'decimal...  \n",
       "1     ['html', 'css', 'css3', 'internet-explorer-7']  \n",
       "2  ['html', 'browser', 'timezone', 'timezoneoffset']  \n",
       "3                                           ['.net']  \n",
       "4  ['c#', 'datetime', 'datediff', 'relative-time-...  "
      ]
     },
     "execution_count": 2,
     "metadata": {},
     "output_type": "execute_result"
    }
   ],
   "source": [
    "train.head()"
   ]
  },
  {
   "cell_type": "code",
   "execution_count": null,
   "metadata": {},
   "outputs": [],
   "source": []
  }
 ],
 "metadata": {
  "interpreter": {
   "hash": "d4d1e4263499bec80672ea0156c357c1ee493ec2b1c70f0acce89fc37c4a6abe"
  },
  "kernelspec": {
   "display_name": "Python 3.6.13 64-bit ('base': conda)",
   "language": "python",
   "name": "python3"
  },
  "language_info": {
   "codemirror_mode": {
    "name": "ipython",
    "version": 3
   },
   "file_extension": ".py",
   "mimetype": "text/x-python",
   "name": "python",
   "nbconvert_exporter": "python",
   "pygments_lexer": "ipython3",
   "version": "3.6.13"
  },
  "orig_nbformat": 4
 },
 "nbformat": 4,
 "nbformat_minor": 2
}
