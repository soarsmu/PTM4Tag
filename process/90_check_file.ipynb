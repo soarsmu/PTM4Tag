{
 "cells": [
  {
   "cell_type": "code",
   "execution_count": 1,
   "metadata": {},
   "outputs": [],
   "source": [
    "\n",
    "import sys\n",
    "sys.path.append(\"../bert\")\n",
    "sys.path.append(\"../..\")\n",
    "from data_structure.question import Question, NewQuestion\n",
    "import pandas as pd\n",
    "from util.util import get_files_paths_from_directory\n",
    "file = \"../data/processed_test/test-0-20000.pkl\""
   ]
  },
  {
   "cell_type": "code",
   "execution_count": 2,
   "metadata": {},
   "outputs": [],
   "source": [
    "test = pd.read_pickle(file)"
   ]
  },
  {
   "cell_type": "code",
   "execution_count": 3,
   "metadata": {},
   "outputs": [
    {
     "data": {
      "text/plain": [
       "40000"
      ]
     },
     "execution_count": 3,
     "metadata": {},
     "output_type": "execute_result"
    }
   ],
   "source": [
    "len(test)"
   ]
  },
  {
   "cell_type": "code",
   "execution_count": 7,
   "metadata": {},
   "outputs": [
    {
     "data": {
      "text/plain": [
       "\"i'm trying to understand the difference between the scope that one can specify in target_include_directories, specifically private and interface . the documentation says (the specific context is header only library): the interface, public and private keywords are required to specify the scope of the following arguments . private and public items will populate the include_directories property of . public and interface items will populate the interface_include_directories property of . (imported targets only support interface items .) the following arguments specify include directories . so basically using either private or interface modifies include_directories or interface_include_directories . i do struggle to understand the difference between the two of them . from the description in the doc include_directories seems to be the argument of the flag -i when compiling a c++ project . i don't understand at all the latter instead, can anyone clarify? also apparently using interface is better when using headers only library, why is that?\""
      ]
     },
     "execution_count": 7,
     "metadata": {},
     "output_type": "execute_result"
    }
   ],
   "source": [
    "test[1].get_text()"
   ]
  },
  {
   "cell_type": "code",
   "execution_count": null,
   "metadata": {},
   "outputs": [],
   "source": []
  }
 ],
 "metadata": {
  "interpreter": {
   "hash": "d4d1e4263499bec80672ea0156c357c1ee493ec2b1c70f0acce89fc37c4a6abe"
  },
  "kernelspec": {
   "display_name": "Python 3.6.13 64-bit ('base': conda)",
   "language": "python",
   "name": "python3"
  },
  "language_info": {
   "codemirror_mode": {
    "name": "ipython",
    "version": 3
   },
   "file_extension": ".py",
   "mimetype": "text/x-python",
   "name": "python",
   "nbconvert_exporter": "python",
   "pygments_lexer": "ipython3",
   "version": "3.6.13"
  },
  "orig_nbformat": 4
 },
 "nbformat": 4,
 "nbformat_minor": 2
}
